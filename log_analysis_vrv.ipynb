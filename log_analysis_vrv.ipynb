{
 "cells": [
  {
   "cell_type": "code",
   "execution_count": 24,
   "id": "68257772-1a6b-47c3-8b10-146835e2d36a",
   "metadata": {},
   "outputs": [],
   "source": [
    "import re\n",
    "from collections import Counter\n",
    "import csv\n"
   ]
  },
  {
   "cell_type": "code",
   "execution_count": 25,
   "id": "556a98cb-62c3-4a45-bb6b-69923fc65416",
   "metadata": {},
   "outputs": [],
   "source": [
    "# Set the threshold for detecting multiple failed login attempts\n",
    "FAILED_LOGIN_THRESHOLD = 3\n",
    "\n",
    "# Function to open and read the log file content\n",
    "def read_log_file(file_path):\n",
    "    with open(file_path, 'r') as log_file:\n",
    "        return log_file.readlines()"
   ]
  },
  {
   "cell_type": "code",
   "execution_count": 26,
   "id": "1a040dc0-4b10-4493-bc67-8248cadba694",
   "metadata": {},
   "outputs": [],
   "source": [
    "# Function to tally requests by each IP address\n",
    "def tally_requests_by_ip(log_lines):\n",
    "    ip_pattern = re.compile(r'^(\\d+\\.\\d+\\.\\d+\\.\\d+)')  # Regex pattern to extract IP addresses\n",
    "    ip_request_count = Counter()\n",
    "\n",
    "    for line in log_lines:\n",
    "        match = ip_pattern.match(line)\n",
    "        if match:\n",
    "            ip_request_count[match.group(1)] += 1\n",
    "\n",
    "    return ip_request_count.most_common()"
   ]
  },
  {
   "cell_type": "code",
   "execution_count": 27,
   "id": "02326c3a-892c-430d-b72a-bf342b1e18e1",
   "metadata": {},
   "outputs": [],
   "source": [
    "# Function to determine the most requested endpoint\n",
    "def get_most_requested_endpoint(log_lines):\n",
    "    endpoint_pattern = re.compile(r'\\\"[A-Z]+\\s([^\\s]+)\\sHTTP')\n",
    "    endpoint_counter = Counter()\n",
    "\n",
    "    for line in log_lines:\n",
    "        match = endpoint_pattern.search(line)\n",
    "        if match:\n",
    "            endpoint_counter[match.group(1)] += 1\n",
    "\n",
    "    top_endpoint = endpoint_counter.most_common(1)\n",
    "    return top_endpoint[0] if top_endpoint else (None, 0)"
   ]
  },
  {
   "cell_type": "code",
   "execution_count": 28,
   "id": "e8de61bc-c427-477e-8e3b-260a49027566",
   "metadata": {},
   "outputs": [],
   "source": [
    "# Function to find IPs with suspicious failed login attempts\n",
    "def find_suspicious_ips(log_lines):\n",
    "    failed_login_pattern = re.compile(r'^(\\d+\\.\\d+\\.\\d+\\.\\d+).*401')  # Match failed logins (status code 401)\n",
    "    failed_login_counter = Counter()\n",
    "\n",
    "    for line in log_lines:\n",
    "        match = failed_login_pattern.match(line)\n",
    "        if match:\n",
    "            failed_login_counter[match.group(1)] += 1\n",
    "\n",
    "    suspicious_ips = [(ip, count) for ip, count in failed_login_counter.items() if count > FAILED_LOGIN_THRESHOLD]\n",
    "    return sorted(suspicious_ips, key=lambda x: x[1], reverse=True)\n"
   ]
  },
  {
   "cell_type": "code",
   "execution_count": 29,
   "id": "eeab3e9f-45c9-4d37-9c18-744578d26ba2",
   "metadata": {},
   "outputs": [],
   "source": [
    "# Function to write the results into a CSV file\n",
    "def write_to_csv(requests, most_accessed_endpoint, suspicious_ips, output_filename):\n",
    "    with open(output_filename, 'w', newline='') as csvfile:\n",
    "        writer = csv.writer(csvfile)\n",
    "\n",
    "        # Write the IP request counts\n",
    "        writer.writerow(['Requests per IP'])\n",
    "        writer.writerow(['IP Address', 'Request Count'])\n",
    "        writer.writerows(requests)\n",
    "\n",
    "        # Write the most accessed endpoint details\n",
    "        writer.writerow([])\n",
    "        writer.writerow(['Most Accessed Endpoint'])\n",
    "        writer.writerow(['Endpoint', 'Access Count'])\n",
    "        writer.writerow(most_accessed_endpoint)\n",
    "\n",
    "        # Write suspicious IPs with failed login attempts\n",
    "        writer.writerow([])\n",
    "        writer.writerow(['Suspicious Activity'])\n",
    "        writer.writerow(['IP Address', 'Failed Login Count'])\n",
    "        writer.writerows(suspicious_ips)\n"
   ]
  },
  {
   "cell_type": "code",
   "execution_count": 8,
   "id": "290a85ac-afba-4085-8ae4-19974ced7a42",
   "metadata": {},
   "outputs": [],
   "source": [
    "# Main function to coordinate log processing and output results\n",
    "def process_log_data():\n",
    "    log_file = 'sample.log'  # Define the log file name\n",
    "    log_lines = read_log_file(log_file)\n",
    "\n",
    "    # Tally IP addresses and their request counts\n",
    "    ip_requests = tally_requests_by_ip(log_lines)\n",
    "    print(\"Requests per IP Address:\")\n",
    "    for ip, count in ip_requests:\n",
    "        print(f\"{ip:<20} {count}\")\n",
    "    print()\n",
    "\n",
    "    # Identify the most frequently accessed endpoint\n",
    "    most_accessed_endpoint, access_count = get_most_requested_endpoint(log_lines)\n",
    "    print(\"Most Frequently Accessed Endpoint:\")\n",
    "    print(f\"{most_accessed_endpoint} (Accessed {access_count} times)\")\n",
    "    print()\n",
    "\n",
    "    # Detect suspicious activity based on failed login attempts\n",
    "    suspicious_ips = find_suspicious_ips(log_lines)\n",
    "    print(\"Suspicious Activity Detected:\")\n",
    "    if suspicious_ips:\n",
    "        for ip, count in suspicious_ips:\n",
    "            print(f\"{ip:<20} {count}\")\n",
    "    else:\n",
    "        print(\"No suspicious activity detected.\")\n",
    "    print()\n",
    "\n",
    "    # Save the results into a CSV file\n",
    "    write_to_csv(ip_requests, (most_accessed_endpoint, access_count), suspicious_ips, 'log_analysis_results.csv')\n",
    "    print(\"Results saved to log_analysis_results.csv\")\n"
   ]
  },
  {
   "cell_type": "code",
   "execution_count": 30,
   "id": "a7d0ff7a-14a0-4885-b87d-d288556cac70",
   "metadata": {},
   "outputs": [
    {
     "name": "stdout",
     "output_type": "stream",
     "text": [
      "Requests per IP Address:\n",
      "203.0.113.5          8\n",
      "198.51.100.23        8\n",
      "192.168.1.1          7\n",
      "10.0.0.2             6\n",
      "192.168.1.100        5\n",
      "\n",
      "Most Frequently Accessed Endpoint:\n",
      "/login (Accessed 13 times)\n",
      "\n",
      "Suspicious Activity Detected:\n",
      "203.0.113.5          8\n",
      "192.168.1.100        5\n",
      "\n",
      "Results saved to log_analysis_results.csv\n"
     ]
    }
   ],
   "source": [
    "# Run the script when executed directly\n",
    "if __name__ == \"__main__\":\n",
    "    process_log_data()"
   ]
  },
  {
   "cell_type": "code",
   "execution_count": null,
   "id": "20096db3-d3b7-4e50-8eed-70e2c4f388ca",
   "metadata": {},
   "outputs": [],
   "source": []
  }
 ],
 "metadata": {
  "kernelspec": {
   "display_name": "Python 3 (ipykernel)",
   "language": "python",
   "name": "python3"
  },
  "language_info": {
   "codemirror_mode": {
    "name": "ipython",
    "version": 3
   },
   "file_extension": ".py",
   "mimetype": "text/x-python",
   "name": "python",
   "nbconvert_exporter": "python",
   "pygments_lexer": "ipython3",
   "version": "3.11.5"
  }
 },
 "nbformat": 4,
 "nbformat_minor": 5
}
